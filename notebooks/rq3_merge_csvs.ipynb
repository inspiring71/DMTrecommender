{
 "cells": [
  {
   "cell_type": "code",
   "execution_count": 1,
   "metadata": {},
   "outputs": [],
   "source": [
    "import pandas as pd\n",
    "import os\n",
    "import matplotlib.pyplot as plt\n",
    "os.chdir('C:/res/RQ3/')\n"
   ]
  },
  {
   "cell_type": "code",
   "execution_count": 45,
   "metadata": {},
   "outputs": [],
   "source": [
    "metric_legend={'defect_expertiseloss':'CSR','expertiseloss':'expertise','far':'FaR','workload':'CoreWorkload'}\n",
    "\n",
    "thresholds = [0.25,0.5,0.75]\n",
    "projects = ['Roslyn','Rust','Kubernetes']\n",
    "methods = ['dynamic','static','norm']\n",
    "metrics = ['defect_expertiseloss','expertiseloss','far','workload']\n",
    "results = {}\n",
    "res = {}\n",
    "for metric in metrics:\n",
    "    res[metric]= pd.DataFrame({})\n",
    "for prj in projects:\n",
    "    results[prj] = {}\n",
    "    for method in methods:\n",
    "        results[prj][method] = {}\n",
    "        for th in thresholds:\n",
    "            results[prj][method][th] = {}\n",
    "            for metric in metrics:\n",
    "                results[prj][method][th][metric] = {}\n",
    "                temp = pd.read_csv(f'./{prj}/{method}/{th}/{metric}.csv')\n",
    "                temp = temp[temp['PeriodId']!='Median']\n",
    "                temp = temp[temp['PeriodId']!='Average']\n",
    "                temp = temp.rename(columns={temp.columns[1]: \"res\"})\n",
    "                temp['project'] = prj;\n",
    "                temp['method'] = method;\n",
    "                temp['threshold']=th\n",
    "#                 print(temp)\n",
    "                res[metric] =pd.concat([res[metric],temp])\n",
    "#                 print(temp)\n",
    "#                 print('---------------------------------')\n"
   ]
  },
  {
   "cell_type": "code",
   "execution_count": 48,
   "metadata": {},
   "outputs": [],
   "source": [
    "for metric in metrics:\n",
    "    res[metric].to_csv(f\"{metric}.csv\",index=False)"
   ]
  },
  {
   "cell_type": "code",
   "execution_count": null,
   "metadata": {},
   "outputs": [],
   "source": []
  }
 ],
 "metadata": {
  "kernelspec": {
   "display_name": "Python 3",
   "language": "python",
   "name": "python3"
  },
  "language_info": {
   "codemirror_mode": {
    "name": "ipython",
    "version": 3
   },
   "file_extension": ".py",
   "mimetype": "text/x-python",
   "name": "python",
   "nbconvert_exporter": "python",
   "pygments_lexer": "ipython3",
   "version": "3.8.5"
  }
 },
 "nbformat": 4,
 "nbformat_minor": 4
}
